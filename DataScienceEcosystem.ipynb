{
 "cells": [
  {
   "cell_type": "markdown",
   "id": "783d8f7d",
   "metadata": {},
   "source": [
    "# Data Science Tools and Ecosystem"
   ]
  },
  {
   "cell_type": "markdown",
   "id": "c75b6ed5",
   "metadata": {},
   "source": [
    "# In this notebook, Data Science Tools and Ecosystem are summarized."
   ]
  },
  {
   "cell_type": "markdown",
   "id": "05f5b5a5",
   "metadata": {},
   "source": [
    "**Objectives:**\n",
    "* List popular languages for Data Science\n",
    "* List commonly used laguages for Data Science\n",
    "* How to make tables in markdown cell\n",
    "* How to evaluate arimetic expressions"
   ]
  },
  {
   "cell_type": "markdown",
   "id": "fc083607",
   "metadata": {},
   "source": [
    "# Some of the popular languages that Data Scientists use are:\n",
    "## 1. Python\n",
    "## 2. R\n",
    "## 3. SQL\n",
    "## 4. Java\n",
    "## 5. Julia"
   ]
  },
  {
   "cell_type": "markdown",
   "id": "ce142662",
   "metadata": {},
   "source": [
    "# Some of the commonly used libraries used by Data Scientists include:\n",
    "## 1. Numpy\n",
    "## 2. Pandas\n",
    "## 3. Matplotlib\n",
    "## 4. Scikit-learn\n",
    "## 5. TensorFlow"
   ]
  },
  {
   "cell_type": "markdown",
   "id": "c513c216",
   "metadata": {},
   "source": [
    "| Data Science Tools |\n",
    "|-----------------------------|\n",
    "|Jupyter Notebook|\n",
    "|R Studio|\n",
    "|Visual Studio Code|"
   ]
  },
  {
   "cell_type": "markdown",
   "id": "e56579c5",
   "metadata": {},
   "source": [
    "### Below are a few examples of evaluating arithmetic expressions in Python\n"
   ]
  },
  {
   "cell_type": "code",
   "execution_count": 1,
   "id": "b59d657a",
   "metadata": {},
   "outputs": [
    {
     "data": {
      "text/plain": [
       "17"
      ]
     },
     "execution_count": 1,
     "metadata": {},
     "output_type": "execute_result"
    }
   ],
   "source": [
    "# This a simple arithmetic expression to mutiply then add integers\n",
    "\n",
    "(3*4)+5"
   ]
  },
  {
   "cell_type": "code",
   "execution_count": 15,
   "id": "15792e15",
   "metadata": {},
   "outputs": [
    {
     "data": {
      "text/plain": [
       "3.33"
      ]
     },
     "execution_count": 15,
     "metadata": {},
     "output_type": "execute_result"
    }
   ],
   "source": [
    "# This will convert 200 minutes to hours by diving by 60\n",
    "\n",
    "round(200 / 60, 2)"
   ]
  },
  {
   "cell_type": "markdown",
   "id": "8249c424",
   "metadata": {},
   "source": [
    "## Author\n",
    "Ling Qin"
   ]
  },
  {
   "cell_type": "code",
   "execution_count": null,
   "id": "806801d3",
   "metadata": {},
   "outputs": [],
   "source": []
  }
 ],
 "metadata": {
  "kernelspec": {
   "display_name": "Python 3 (ipykernel)",
   "language": "python",
   "name": "python3"
  },
  "language_info": {
   "codemirror_mode": {
    "name": "ipython",
    "version": 3
   },
   "file_extension": ".py",
   "mimetype": "text/x-python",
   "name": "python",
   "nbconvert_exporter": "python",
   "pygments_lexer": "ipython3",
   "version": "3.10.9"
  }
 },
 "nbformat": 4,
 "nbformat_minor": 5
}
